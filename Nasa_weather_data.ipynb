{
  "nbformat": 4,
  "nbformat_minor": 0,
  "metadata": {
    "colab": {
      "provenance": []
    },
    "kernelspec": {
      "name": "python3",
      "display_name": "Python 3"
    },
    "language_info": {
      "name": "python"
    }
  },
  "cells": [
    {
      "cell_type": "markdown",
      "source": [
        "This is a code to download and update the weather dataset."
      ],
      "metadata": {
        "id": "eVihABskKgAa"
      }
    },
    {
      "cell_type": "code",
      "execution_count": null,
      "metadata": {
        "id": "5UtzL3RCKS36"
      },
      "outputs": [],
      "source": [
        "!pip install pcse"
      ]
    },
    {
      "cell_type": "markdown",
      "source": [
        "function"
      ],
      "metadata": {
        "id": "20sqoHiGLpbw"
      }
    },
    {
      "cell_type": "code",
      "source": [
        "def update_csv_NASA_weather_database(path_CSV_dir, latitude_min, latitude_max, longitude_min, longitude_max):\n",
        "    \"\"\"\n",
        "    function for downloading NASA weather and creating csv files in folders for future simulation\n",
        "\n",
        "    Input: path, latitude_min, latitude_max, longitude_min, longitude_max\n",
        "    Output: CSV files in dir\n",
        "\n",
        "    \"\"\"\n",
        "    import time\n",
        "    import numpy as np\n",
        "    import pandas as pd\n",
        "    from pcse.db import NASAPowerWeatherDataProvider\n",
        "    from pcse.exceptions import PCSEError\n",
        "    import os\n",
        "    # UPDATE: Now we download weather for 0.5*0.5 degree zones EU + Russian EU part\n",
        "    longitude_array = np.arange(longitude_min,longitude_max,step=0.5)\n",
        "    latitude_array = np.arange(latitude_min,latitude_max,step=0.5)\n",
        "\n",
        "\n",
        "    path = path_CSV_dir+'/'\n",
        "    print(path)\n",
        "\n",
        "    weather_files = os.listdir(path)\n",
        "\n",
        "    i = 0\n",
        "\n",
        "    for latitude in latitude_array:\n",
        "        for longitude in longitude_array:\n",
        "\n",
        "\n",
        "            # Check presence of files in directory with weather files\n",
        "\n",
        "            filename = f'NASA_weather_latitude_{latitude}_longitude_{longitude}.csv'\n",
        "            if filename in weather_files:\n",
        "                print(\"There is weather file for:\", latitude, longitude)\n",
        "                continue\n",
        "            else:\n",
        "                print(\"Download it\")\n",
        "\n",
        "\n",
        "                start_time = time.time()\n",
        "                #API request to NASA database\n",
        "                def test_weather(latitude,longitude):\n",
        "                    n=0\n",
        "                    weather=None\n",
        "                    while n<10:\n",
        "                        n+=1\n",
        "                        try:\n",
        "                            weather = NASAPowerWeatherDataProvider(latitude, longitude, force_update=True)\n",
        "                            info='ok in this region'\n",
        "                            break\n",
        "                        except KeyError as e:\n",
        "                            info = e\n",
        "                            print('It is night in America, the NASA server sleeps sweetly and does not want to answer')\n",
        "                            time.sleep(60*5)\n",
        "                        except PCSEError as e:\n",
        "                            print('The weather in this region has let us down again!')\n",
        "                            info = e\n",
        "                            break\n",
        "                    return weather, info\n",
        "                # Print done if downloaded\n",
        "                weather, info = test_weather(latitude, longitude)\n",
        "\n",
        "                # if there is no weather for this region or NASA server slept more than 50 mins -- skip this!\n",
        "                if weather==None:\n",
        "                    list_to_add = [latitude, longitude, 'NaN', 'NaN', 'NaN', info]\n",
        "                    str_to_write = ','.join(map(str, list_to_add))\n",
        "                    with open(path+'weather_database_new.csv', mode='a') as mdt:\n",
        "                        mdt.write(str_to_write)\n",
        "                    print('____DONE_____','latitude',latitude, 'longitude',longitude,'____')\n",
        "                else:\n",
        "                    # export pcse.weather format to pandas df\n",
        "                    df_weather = pd.DataFrame(weather.export())\n",
        "                    #create full range of dates\n",
        "                    r = pd.date_range(start=df_weather.DAY.min(), end=df_weather.DAY.max())\n",
        "                    #extend range of dates\n",
        "                    full_range_weather = df_weather.set_index('DAY').reindex(r).rename_axis('DAY').reset_index()\n",
        "                    missing_days = (full_range_weather.isna()).sum().sum()\n",
        "\n",
        "                    print('num_of_missing_days', missing_days)\n",
        "\n",
        "                    #fill weather with fill forward method in pandas\n",
        "                    filled_weather = full_range_weather.fillna(method='ffill', axis=0)\n",
        "                    ##save as csv file\n",
        "                    filled_weather=filled_weather[['DAY', 'IRRAD', 'TMIN', 'TMAX', 'VAP', 'WIND', 'RAIN']]\n",
        "                    filled_weather['SNOWDEPTH'] = 'NaN'\n",
        "                    filled_weather[['IRRAD']] = filled_weather[['IRRAD']]/1000.\n",
        "                    filled_weather[['VAP']] = filled_weather[['VAP']]/10.\n",
        "                    filled_weather.DAY=filled_weather.DAY.dt.strftime('%Y%m%d')\n",
        "\n",
        "\n",
        "                    text = open(path+\"pattern.csv\", \"r\")\n",
        "                    text = ''.join([i for i in text]).replace(\"1111\", str(weather.longitude))\n",
        "                    text = ''.join([i for i in text]).replace(\"2222\", str(weather.latitude))\n",
        "                    text = ''.join([i for i in text]).replace(\"3333\", str(weather.elevation))\n",
        "                    text = ''.join([i for i in text]).replace(\"4444\", str(weather.angstA))\n",
        "                    text = ''.join([i for i in text]).replace(\"5555\", str(weather.angstB))\n",
        "                    x = open(path+filename,\"w\")\n",
        "                    x.writelines(text)\n",
        "                    x.close()\n",
        "\n",
        "\n",
        "                    filled_weather.to_csv(path+filename, mode='a', header=False, index=False)\n",
        "\n",
        "\n",
        "                    #add info to weather database and save it to csv\n",
        "                    list_to_add = [latitude, longitude, missing_days, weather.first_date, weather.last_date, info]\n",
        "                    str_to_write = ','.join(map(str, list_to_add))\n",
        "                    #weather_database.iloc[i,:] = list_to_add\n",
        "                    #i += 1\n",
        "                    #weather_database.to_csv(path+'weather_database.csv', mode='a')\n",
        "\n",
        "                    with open(path+'weather_database_new.csv', mode='a') as mdt:\n",
        "                        mdt.write(str_to_write)\n",
        "                    print('time in sec', time.time() - start_time)\n"
      ],
      "metadata": {
        "id": "qFbKtghgKdE3"
      },
      "execution_count": 2,
      "outputs": []
    },
    {
      "cell_type": "markdown",
      "source": [
        "Download based on the user defined region"
      ],
      "metadata": {
        "id": "MxVWvlUHLt9w"
      }
    },
    {
      "cell_type": "code",
      "source": [
        "import pcse\n",
        "import pandas as pd\n",
        "import numpy as np\n",
        "from pcse.db import NASAPowerWeatherDataProvider\n",
        "import time\n",
        "\n",
        "# you need to include the pattern.csv in path_to_csv_dir.\n",
        "path_to_csv_dir = '/content'\n",
        "lat_min = 45.5\n",
        "lat_max = 54.5\n",
        "long_min = 4.0\n",
        "long_max = 51.5\n",
        "update_csv_NASA_weather_database(path_CSV_dir=path_to_csv_dir, latitude_min=lat_min, latitude_max=lat_max, longitude_min=long_min, longitude_max=long_max)"
      ],
      "metadata": {
        "id": "wvNrrgdsLbcr"
      },
      "execution_count": 4,
      "outputs": []
    },
    {
      "cell_type": "code",
      "source": [],
      "metadata": {
        "id": "g2YfJmqbL-nz"
      },
      "execution_count": null,
      "outputs": []
    }
  ]
}